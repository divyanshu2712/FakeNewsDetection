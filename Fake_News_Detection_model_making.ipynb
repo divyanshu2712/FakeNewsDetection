{
 "cells": [
  {
   "cell_type": "markdown",
   "id": "e2cf7a34",
   "metadata": {},
   "source": [
    "## Fake News Detection"
   ]
  },
  {
   "cell_type": "markdown",
   "id": "aed38f9a",
   "metadata": {},
   "source": [
    "### import libraries"
   ]
  },
  {
   "cell_type": "code",
   "execution_count": 1,
   "id": "31cbac14",
   "metadata": {},
   "outputs": [],
   "source": [
    "import pandas as pd\n",
    "import numpy as np\n",
    "import random\n",
    "import itertools as it\n",
    "import joblib\n",
    "from sklearn.model_selection import train_test_split\n",
    "from sklearn.feature_extraction.text import TfidfVectorizer\n",
    "from sklearn.linear_model import PassiveAggressiveClassifier\n",
    "from sklearn.metrics import accuracy_score,confusion_matrix"
   ]
  },
  {
   "cell_type": "code",
   "execution_count": 2,
   "id": "f8455e2b",
   "metadata": {},
   "outputs": [],
   "source": [
    "true=pd.read_csv(\"True.csv\") # reading data file\n",
    "true['label']='Real'\n",
    "true.head()\n",
    "false=pd.read_csv(\"Fake.csv\")\n",
    "false['label']='Fake'\n",
    "frames = [true, false]\n",
    "df=pd.concat(frames)\n",
    "df = df.sample(frac=1.0)"
   ]
  },
  {
   "cell_type": "code",
   "execution_count": 3,
   "id": "378a2fe0",
   "metadata": {},
   "outputs": [
    {
     "data": {
      "text/html": [
       "<div>\n",
       "<style scoped>\n",
       "    .dataframe tbody tr th:only-of-type {\n",
       "        vertical-align: middle;\n",
       "    }\n",
       "\n",
       "    .dataframe tbody tr th {\n",
       "        vertical-align: top;\n",
       "    }\n",
       "\n",
       "    .dataframe thead th {\n",
       "        text-align: right;\n",
       "    }\n",
       "</style>\n",
       "<table border=\"1\" class=\"dataframe\">\n",
       "  <thead>\n",
       "    <tr style=\"text-align: right;\">\n",
       "      <th></th>\n",
       "      <th>title</th>\n",
       "      <th>text</th>\n",
       "      <th>subject</th>\n",
       "      <th>date</th>\n",
       "      <th>label</th>\n",
       "    </tr>\n",
       "  </thead>\n",
       "  <tbody>\n",
       "    <tr>\n",
       "      <th>6572</th>\n",
       "      <td>Factbox: Trump to meet heads of Carlyle Group,...</td>\n",
       "      <td>(Reuters) - Republican U.S. President-elect Do...</td>\n",
       "      <td>politicsNews</td>\n",
       "      <td>December 28, 2016</td>\n",
       "      <td>Real</td>\n",
       "    </tr>\n",
       "    <tr>\n",
       "      <th>9814</th>\n",
       "      <td>STUNNING PHOTOS EMERGE Of West Point Graduate ...</td>\n",
       "      <td>Yesterday afternoon, on Twitter, some of that ...</td>\n",
       "      <td>politics</td>\n",
       "      <td>Sep 26, 2017</td>\n",
       "      <td>Fake</td>\n",
       "    </tr>\n",
       "    <tr>\n",
       "      <th>7068</th>\n",
       "      <td>U.N. envoy sees continued U.S. work to end Syr...</td>\n",
       "      <td>BERLIN (Reuters) - The U.N. Special Envoy for ...</td>\n",
       "      <td>politicsNews</td>\n",
       "      <td>November 24, 2016</td>\n",
       "      <td>Real</td>\n",
       "    </tr>\n",
       "    <tr>\n",
       "      <th>16535</th>\n",
       "      <td>REPUBLICANS BLOCK Pentagon’s Climate Scam Plan</td>\n",
       "      <td>Everyone s calling BS on the warning that  cli...</td>\n",
       "      <td>Government News</td>\n",
       "      <td>Jun 24, 2016</td>\n",
       "      <td>Fake</td>\n",
       "    </tr>\n",
       "    <tr>\n",
       "      <th>14811</th>\n",
       "      <td>Iran quake survivors complain of slow aid effo...</td>\n",
       "      <td>ANKARA (Reuters) - Exhausted and exposed to fr...</td>\n",
       "      <td>worldnews</td>\n",
       "      <td>November 13, 2017</td>\n",
       "      <td>Real</td>\n",
       "    </tr>\n",
       "  </tbody>\n",
       "</table>\n",
       "</div>"
      ],
      "text/plain": [
       "                                                   title  \\\n",
       "6572   Factbox: Trump to meet heads of Carlyle Group,...   \n",
       "9814   STUNNING PHOTOS EMERGE Of West Point Graduate ...   \n",
       "7068   U.N. envoy sees continued U.S. work to end Syr...   \n",
       "16535     REPUBLICANS BLOCK Pentagon’s Climate Scam Plan   \n",
       "14811  Iran quake survivors complain of slow aid effo...   \n",
       "\n",
       "                                                    text          subject  \\\n",
       "6572   (Reuters) - Republican U.S. President-elect Do...     politicsNews   \n",
       "9814   Yesterday afternoon, on Twitter, some of that ...         politics   \n",
       "7068   BERLIN (Reuters) - The U.N. Special Envoy for ...     politicsNews   \n",
       "16535  Everyone s calling BS on the warning that  cli...  Government News   \n",
       "14811  ANKARA (Reuters) - Exhausted and exposed to fr...        worldnews   \n",
       "\n",
       "                     date label  \n",
       "6572   December 28, 2016   Real  \n",
       "9814         Sep 26, 2017  Fake  \n",
       "7068   November 24, 2016   Real  \n",
       "16535        Jun 24, 2016  Fake  \n",
       "14811  November 13, 2017   Real  "
      ]
     },
     "execution_count": 3,
     "metadata": {},
     "output_type": "execute_result"
    }
   ],
   "source": [
    "df.head()"
   ]
  },
  {
   "cell_type": "code",
   "execution_count": 4,
   "id": "ed4b1935",
   "metadata": {},
   "outputs": [
    {
     "data": {
      "text/plain": [
       "(44898, 5)"
      ]
     },
     "execution_count": 4,
     "metadata": {},
     "output_type": "execute_result"
    }
   ],
   "source": [
    "df.shape"
   ]
  },
  {
   "cell_type": "code",
   "execution_count": 5,
   "id": "36e5e34e",
   "metadata": {},
   "outputs": [
    {
     "data": {
      "text/html": [
       "<div>\n",
       "<style scoped>\n",
       "    .dataframe tbody tr th:only-of-type {\n",
       "        vertical-align: middle;\n",
       "    }\n",
       "\n",
       "    .dataframe tbody tr th {\n",
       "        vertical-align: top;\n",
       "    }\n",
       "\n",
       "    .dataframe thead th {\n",
       "        text-align: right;\n",
       "    }\n",
       "</style>\n",
       "<table border=\"1\" class=\"dataframe\">\n",
       "  <thead>\n",
       "    <tr style=\"text-align: right;\">\n",
       "      <th></th>\n",
       "      <th>title</th>\n",
       "      <th>text</th>\n",
       "      <th>subject</th>\n",
       "      <th>date</th>\n",
       "      <th>label</th>\n",
       "    </tr>\n",
       "  </thead>\n",
       "  <tbody>\n",
       "    <tr>\n",
       "      <th>6572</th>\n",
       "      <td>Factbox: Trump to meet heads of Carlyle Group,...</td>\n",
       "      <td>(Reuters) - Republican U.S. President-elect Do...</td>\n",
       "      <td>politicsNews</td>\n",
       "      <td>December 28, 2016</td>\n",
       "      <td>Real</td>\n",
       "    </tr>\n",
       "    <tr>\n",
       "      <th>9814</th>\n",
       "      <td>STUNNING PHOTOS EMERGE Of West Point Graduate ...</td>\n",
       "      <td>Yesterday afternoon, on Twitter, some of that ...</td>\n",
       "      <td>politics</td>\n",
       "      <td>Sep 26, 2017</td>\n",
       "      <td>Fake</td>\n",
       "    </tr>\n",
       "    <tr>\n",
       "      <th>7068</th>\n",
       "      <td>U.N. envoy sees continued U.S. work to end Syr...</td>\n",
       "      <td>BERLIN (Reuters) - The U.N. Special Envoy for ...</td>\n",
       "      <td>politicsNews</td>\n",
       "      <td>November 24, 2016</td>\n",
       "      <td>Real</td>\n",
       "    </tr>\n",
       "    <tr>\n",
       "      <th>16535</th>\n",
       "      <td>REPUBLICANS BLOCK Pentagon’s Climate Scam Plan</td>\n",
       "      <td>Everyone s calling BS on the warning that  cli...</td>\n",
       "      <td>Government News</td>\n",
       "      <td>Jun 24, 2016</td>\n",
       "      <td>Fake</td>\n",
       "    </tr>\n",
       "    <tr>\n",
       "      <th>14811</th>\n",
       "      <td>Iran quake survivors complain of slow aid effo...</td>\n",
       "      <td>ANKARA (Reuters) - Exhausted and exposed to fr...</td>\n",
       "      <td>worldnews</td>\n",
       "      <td>November 13, 2017</td>\n",
       "      <td>Real</td>\n",
       "    </tr>\n",
       "    <tr>\n",
       "      <th>...</th>\n",
       "      <td>...</td>\n",
       "      <td>...</td>\n",
       "      <td>...</td>\n",
       "      <td>...</td>\n",
       "      <td>...</td>\n",
       "    </tr>\n",
       "    <tr>\n",
       "      <th>15762</th>\n",
       "      <td>THIS IS RICH! COMMIE NYC MAYOR UNLEASHES CLASS...</td>\n",
       "      <td>New York Mayor Bill de Blasio traveled to Milw...</td>\n",
       "      <td>politics</td>\n",
       "      <td>Apr 29, 2015</td>\n",
       "      <td>Fake</td>\n",
       "    </tr>\n",
       "    <tr>\n",
       "      <th>9643</th>\n",
       "      <td>MOST DIVISIVE POTUS EVER Takes Swipe At Trump ...</td>\n",
       "      <td>Barack Obama stutters through yet another jerk...</td>\n",
       "      <td>politics</td>\n",
       "      <td>Oct 20, 2017</td>\n",
       "      <td>Fake</td>\n",
       "    </tr>\n",
       "    <tr>\n",
       "      <th>11769</th>\n",
       "      <td>HEY AMERICA…Where Was The Outrage When Obama C...</td>\n",
       "      <td>Alinsky s ideas for community organizing were ...</td>\n",
       "      <td>politics</td>\n",
       "      <td>Jan 31, 2017</td>\n",
       "      <td>Fake</td>\n",
       "    </tr>\n",
       "    <tr>\n",
       "      <th>10511</th>\n",
       "      <td>HEATED! MARIA BARTIROMO Goes At It With John P...</td>\n",
       "      <td>John Podesta is the guardian of the Clintons j...</td>\n",
       "      <td>politics</td>\n",
       "      <td>Jun 29, 2017</td>\n",
       "      <td>Fake</td>\n",
       "    </tr>\n",
       "    <tr>\n",
       "      <th>19388</th>\n",
       "      <td>Britain will meet its Brexit financial obligat...</td>\n",
       "      <td>LONDON (Reuters) - Britain will meet its finan...</td>\n",
       "      <td>worldnews</td>\n",
       "      <td>September 22, 2017</td>\n",
       "      <td>Real</td>\n",
       "    </tr>\n",
       "  </tbody>\n",
       "</table>\n",
       "<p>44898 rows × 5 columns</p>\n",
       "</div>"
      ],
      "text/plain": [
       "                                                   title  \\\n",
       "6572   Factbox: Trump to meet heads of Carlyle Group,...   \n",
       "9814   STUNNING PHOTOS EMERGE Of West Point Graduate ...   \n",
       "7068   U.N. envoy sees continued U.S. work to end Syr...   \n",
       "16535     REPUBLICANS BLOCK Pentagon’s Climate Scam Plan   \n",
       "14811  Iran quake survivors complain of slow aid effo...   \n",
       "...                                                  ...   \n",
       "15762  THIS IS RICH! COMMIE NYC MAYOR UNLEASHES CLASS...   \n",
       "9643   MOST DIVISIVE POTUS EVER Takes Swipe At Trump ...   \n",
       "11769  HEY AMERICA…Where Was The Outrage When Obama C...   \n",
       "10511  HEATED! MARIA BARTIROMO Goes At It With John P...   \n",
       "19388  Britain will meet its Brexit financial obligat...   \n",
       "\n",
       "                                                    text          subject  \\\n",
       "6572   (Reuters) - Republican U.S. President-elect Do...     politicsNews   \n",
       "9814   Yesterday afternoon, on Twitter, some of that ...         politics   \n",
       "7068   BERLIN (Reuters) - The U.N. Special Envoy for ...     politicsNews   \n",
       "16535  Everyone s calling BS on the warning that  cli...  Government News   \n",
       "14811  ANKARA (Reuters) - Exhausted and exposed to fr...        worldnews   \n",
       "...                                                  ...              ...   \n",
       "15762  New York Mayor Bill de Blasio traveled to Milw...         politics   \n",
       "9643   Barack Obama stutters through yet another jerk...         politics   \n",
       "11769  Alinsky s ideas for community organizing were ...         politics   \n",
       "10511  John Podesta is the guardian of the Clintons j...         politics   \n",
       "19388  LONDON (Reuters) - Britain will meet its finan...        worldnews   \n",
       "\n",
       "                      date label  \n",
       "6572    December 28, 2016   Real  \n",
       "9814          Sep 26, 2017  Fake  \n",
       "7068    November 24, 2016   Real  \n",
       "16535         Jun 24, 2016  Fake  \n",
       "14811   November 13, 2017   Real  \n",
       "...                    ...   ...  \n",
       "15762         Apr 29, 2015  Fake  \n",
       "9643          Oct 20, 2017  Fake  \n",
       "11769         Jan 31, 2017  Fake  \n",
       "10511         Jun 29, 2017  Fake  \n",
       "19388  September 22, 2017   Real  \n",
       "\n",
       "[44898 rows x 5 columns]"
      ]
     },
     "execution_count": 5,
     "metadata": {},
     "output_type": "execute_result"
    }
   ],
   "source": [
    "df"
   ]
  },
  {
   "cell_type": "code",
   "execution_count": 6,
   "id": "02682672",
   "metadata": {},
   "outputs": [
    {
     "data": {
      "text/plain": [
       "title      0\n",
       "text       0\n",
       "subject    0\n",
       "date       0\n",
       "label      0\n",
       "dtype: int64"
      ]
     },
     "execution_count": 6,
     "metadata": {},
     "output_type": "execute_result"
    }
   ],
   "source": [
    "df.isnull().sum()"
   ]
  },
  {
   "cell_type": "code",
   "execution_count": 7,
   "id": "9ebe9d5f",
   "metadata": {},
   "outputs": [],
   "source": [
    "labels=df.label"
   ]
  },
  {
   "cell_type": "code",
   "execution_count": 8,
   "id": "867e43c5",
   "metadata": {},
   "outputs": [
    {
     "data": {
      "text/plain": [
       "6572     Real\n",
       "9814     Fake\n",
       "7068     Real\n",
       "16535    Fake\n",
       "14811    Real\n",
       "Name: label, dtype: object"
      ]
     },
     "execution_count": 8,
     "metadata": {},
     "output_type": "execute_result"
    }
   ],
   "source": [
    "labels.head()"
   ]
  },
  {
   "cell_type": "code",
   "execution_count": 9,
   "id": "2b6ccf91",
   "metadata": {},
   "outputs": [],
   "source": [
    "x_train,x_test,y_train,y_test=train_test_split(df['text'],labels,test_size=0.2,random_state=20) #random state is just like seed"
   ]
  },
  {
   "cell_type": "code",
   "execution_count": 10,
   "id": "3ef639e6",
   "metadata": {},
   "outputs": [],
   "source": [
    "# TFIDF Initialization\n",
    "vector = TfidfVectorizer(stop_words='english',max_df=0.7) #max_df is max document freq "
   ]
  },
  {
   "cell_type": "code",
   "execution_count": 11,
   "id": "fb0014e0",
   "metadata": {},
   "outputs": [],
   "source": [
    "# fit and transform\n",
    "tf_train=vector.fit_transform(x_train)\n",
    "tf_test=vector.transform(x_test)"
   ]
  },
  {
   "cell_type": "code",
   "execution_count": 12,
   "id": "e7aeb8e5",
   "metadata": {},
   "outputs": [
    {
     "data": {
      "text/html": [
       "<style>#sk-container-id-1 {color: black;background-color: white;}#sk-container-id-1 pre{padding: 0;}#sk-container-id-1 div.sk-toggleable {background-color: white;}#sk-container-id-1 label.sk-toggleable__label {cursor: pointer;display: block;width: 100%;margin-bottom: 0;padding: 0.3em;box-sizing: border-box;text-align: center;}#sk-container-id-1 label.sk-toggleable__label-arrow:before {content: \"▸\";float: left;margin-right: 0.25em;color: #696969;}#sk-container-id-1 label.sk-toggleable__label-arrow:hover:before {color: black;}#sk-container-id-1 div.sk-estimator:hover label.sk-toggleable__label-arrow:before {color: black;}#sk-container-id-1 div.sk-toggleable__content {max-height: 0;max-width: 0;overflow: hidden;text-align: left;background-color: #f0f8ff;}#sk-container-id-1 div.sk-toggleable__content pre {margin: 0.2em;color: black;border-radius: 0.25em;background-color: #f0f8ff;}#sk-container-id-1 input.sk-toggleable__control:checked~div.sk-toggleable__content {max-height: 200px;max-width: 100%;overflow: auto;}#sk-container-id-1 input.sk-toggleable__control:checked~label.sk-toggleable__label-arrow:before {content: \"▾\";}#sk-container-id-1 div.sk-estimator input.sk-toggleable__control:checked~label.sk-toggleable__label {background-color: #d4ebff;}#sk-container-id-1 div.sk-label input.sk-toggleable__control:checked~label.sk-toggleable__label {background-color: #d4ebff;}#sk-container-id-1 input.sk-hidden--visually {border: 0;clip: rect(1px 1px 1px 1px);clip: rect(1px, 1px, 1px, 1px);height: 1px;margin: -1px;overflow: hidden;padding: 0;position: absolute;width: 1px;}#sk-container-id-1 div.sk-estimator {font-family: monospace;background-color: #f0f8ff;border: 1px dotted black;border-radius: 0.25em;box-sizing: border-box;margin-bottom: 0.5em;}#sk-container-id-1 div.sk-estimator:hover {background-color: #d4ebff;}#sk-container-id-1 div.sk-parallel-item::after {content: \"\";width: 100%;border-bottom: 1px solid gray;flex-grow: 1;}#sk-container-id-1 div.sk-label:hover label.sk-toggleable__label {background-color: #d4ebff;}#sk-container-id-1 div.sk-serial::before {content: \"\";position: absolute;border-left: 1px solid gray;box-sizing: border-box;top: 0;bottom: 0;left: 50%;z-index: 0;}#sk-container-id-1 div.sk-serial {display: flex;flex-direction: column;align-items: center;background-color: white;padding-right: 0.2em;padding-left: 0.2em;position: relative;}#sk-container-id-1 div.sk-item {position: relative;z-index: 1;}#sk-container-id-1 div.sk-parallel {display: flex;align-items: stretch;justify-content: center;background-color: white;position: relative;}#sk-container-id-1 div.sk-item::before, #sk-container-id-1 div.sk-parallel-item::before {content: \"\";position: absolute;border-left: 1px solid gray;box-sizing: border-box;top: 0;bottom: 0;left: 50%;z-index: -1;}#sk-container-id-1 div.sk-parallel-item {display: flex;flex-direction: column;z-index: 1;position: relative;background-color: white;}#sk-container-id-1 div.sk-parallel-item:first-child::after {align-self: flex-end;width: 50%;}#sk-container-id-1 div.sk-parallel-item:last-child::after {align-self: flex-start;width: 50%;}#sk-container-id-1 div.sk-parallel-item:only-child::after {width: 0;}#sk-container-id-1 div.sk-dashed-wrapped {border: 1px dashed gray;margin: 0 0.4em 0.5em 0.4em;box-sizing: border-box;padding-bottom: 0.4em;background-color: white;}#sk-container-id-1 div.sk-label label {font-family: monospace;font-weight: bold;display: inline-block;line-height: 1.2em;}#sk-container-id-1 div.sk-label-container {text-align: center;}#sk-container-id-1 div.sk-container {/* jupyter's `normalize.less` sets `[hidden] { display: none; }` but bootstrap.min.css set `[hidden] { display: none !important; }` so we also need the `!important` here to be able to override the default hidden behavior on the sphinx rendered scikit-learn.org. See: https://github.com/scikit-learn/scikit-learn/issues/21755 */display: inline-block !important;position: relative;}#sk-container-id-1 div.sk-text-repr-fallback {display: none;}</style><div id=\"sk-container-id-1\" class=\"sk-top-container\"><div class=\"sk-text-repr-fallback\"><pre>PassiveAggressiveClassifier(max_iter=50)</pre><b>In a Jupyter environment, please rerun this cell to show the HTML representation or trust the notebook. <br />On GitHub, the HTML representation is unable to render, please try loading this page with nbviewer.org.</b></div><div class=\"sk-container\" hidden><div class=\"sk-item\"><div class=\"sk-estimator sk-toggleable\"><input class=\"sk-toggleable__control sk-hidden--visually\" id=\"sk-estimator-id-1\" type=\"checkbox\" checked><label for=\"sk-estimator-id-1\" class=\"sk-toggleable__label sk-toggleable__label-arrow\">PassiveAggressiveClassifier</label><div class=\"sk-toggleable__content\"><pre>PassiveAggressiveClassifier(max_iter=50)</pre></div></div></div></div></div>"
      ],
      "text/plain": [
       "PassiveAggressiveClassifier(max_iter=50)"
      ]
     },
     "execution_count": 12,
     "metadata": {},
     "output_type": "execute_result"
    }
   ],
   "source": [
    "# initialize passive aggressive classifier\n",
    "pac=PassiveAggressiveClassifier(max_iter=50)\n",
    "pac.fit(tf_train,y_train)"
   ]
  },
  {
   "cell_type": "code",
   "execution_count": 13,
   "id": "b94cc35d",
   "metadata": {},
   "outputs": [],
   "source": [
    "# predicting on test data sets\n",
    "y_pred=pac.predict(tf_test)"
   ]
  },
  {
   "cell_type": "code",
   "execution_count": 14,
   "id": "c5107943",
   "metadata": {},
   "outputs": [],
   "source": [
    "score = accuracy_score(y_test,y_pred)"
   ]
  },
  {
   "cell_type": "code",
   "execution_count": 15,
   "id": "33d37aa2",
   "metadata": {},
   "outputs": [
    {
     "name": "stdout",
     "output_type": "stream",
     "text": [
      "Accuracy is : 99.55%\n"
     ]
    }
   ],
   "source": [
    "print(f\"Accuracy is : {round(score*100,2)}%\")"
   ]
  },
  {
   "cell_type": "code",
   "execution_count": 16,
   "id": "a93dd887",
   "metadata": {},
   "outputs": [
    {
     "data": {
      "text/plain": [
       "array([[4705,   21],\n",
       "       [  19, 4235]], dtype=int64)"
      ]
     },
     "execution_count": 16,
     "metadata": {},
     "output_type": "execute_result"
    }
   ],
   "source": [
    "# Confusion Matrix\n",
    "confusion_matrix(y_test,y_pred,labels=['Fake','Real'])"
   ]
  },
  {
   "cell_type": "code",
   "execution_count": 17,
   "id": "7caab993",
   "metadata": {},
   "outputs": [
    {
     "data": {
      "text/plain": [
       "['model.sav']"
      ]
     },
     "execution_count": 17,
     "metadata": {},
     "output_type": "execute_result"
    }
   ],
   "source": [
    "# saving model\n",
    "file_name='model.sav'\n",
    "joblib.dump(pac,file_name)"
   ]
  },
  {
   "cell_type": "code",
   "execution_count": 18,
   "id": "d0830585",
   "metadata": {},
   "outputs": [
    {
     "data": {
      "text/plain": [
       "['vector.sav']"
      ]
     },
     "execution_count": 18,
     "metadata": {},
     "output_type": "execute_result"
    }
   ],
   "source": [
    "#saving vectorizer model\n",
    "file_name_1='vector.sav'\n",
    "joblib.dump(vector,file_name_1)"
   ]
  },
  {
   "cell_type": "code",
   "execution_count": null,
   "id": "71be6a53",
   "metadata": {},
   "outputs": [],
   "source": []
  }
 ],
 "metadata": {
  "kernelspec": {
   "display_name": "Python 3 (ipykernel)",
   "language": "python",
   "name": "python3"
  },
  "language_info": {
   "codemirror_mode": {
    "name": "ipython",
    "version": 3
   },
   "file_extension": ".py",
   "mimetype": "text/x-python",
   "name": "python",
   "nbconvert_exporter": "python",
   "pygments_lexer": "ipython3",
   "version": "3.10.7"
  }
 },
 "nbformat": 4,
 "nbformat_minor": 5
}
