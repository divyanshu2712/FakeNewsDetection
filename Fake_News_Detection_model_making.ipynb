{
 "cells": [
  {
   "cell_type": "markdown",
   "id": "e2cf7a34",
   "metadata": {},
   "source": [
    "## Fake News Detection"
   ]
  },
  {
   "cell_type": "markdown",
   "id": "aed38f9a",
   "metadata": {},
   "source": [
    "### import libraries"
   ]
  },
  {
   "cell_type": "code",
   "execution_count": 2,
   "id": "31cbac14",
   "metadata": {},
   "outputs": [],
   "source": [
    "import pandas as pd\n",
    "import numpy as np\n",
    "import random\n",
    "import itertools as it\n",
    "import joblib\n",
    "from sklearn.model_selection import train_test_split\n",
    "from sklearn.feature_extraction.text import TfidfVectorizer\n",
    "from sklearn.linear_model import PassiveAggressiveClassifier\n",
    "from sklearn.metrics import accuracy_score,confusion_matrix"
   ]
  },
  {
   "cell_type": "code",
   "execution_count": 3,
   "id": "f8455e2b",
   "metadata": {},
   "outputs": [],
   "source": [
    "df=pd.read_csv('newsdata.csv')"
   ]
  },
  {
   "cell_type": "code",
   "execution_count": 4,
   "id": "378a2fe0",
   "metadata": {},
   "outputs": [
    {
     "data": {
      "text/html": [
       "<div>\n",
       "<style scoped>\n",
       "    .dataframe tbody tr th:only-of-type {\n",
       "        vertical-align: middle;\n",
       "    }\n",
       "\n",
       "    .dataframe tbody tr th {\n",
       "        vertical-align: top;\n",
       "    }\n",
       "\n",
       "    .dataframe thead th {\n",
       "        text-align: right;\n",
       "    }\n",
       "</style>\n",
       "<table border=\"1\" class=\"dataframe\">\n",
       "  <thead>\n",
       "    <tr style=\"text-align: right;\">\n",
       "      <th></th>\n",
       "      <th>Unnamed: 0</th>\n",
       "      <th>title</th>\n",
       "      <th>text</th>\n",
       "      <th>subject</th>\n",
       "      <th>date</th>\n",
       "      <th>label</th>\n",
       "    </tr>\n",
       "  </thead>\n",
       "  <tbody>\n",
       "    <tr>\n",
       "      <th>0</th>\n",
       "      <td>3509</td>\n",
       "      <td>Time Magazine Makes Trump Their ‘Person Of Th...</td>\n",
       "      <td>If you haven t heard, Donald Trump has joined ...</td>\n",
       "      <td>News</td>\n",
       "      <td>December 8, 2016</td>\n",
       "      <td>Fake</td>\n",
       "    </tr>\n",
       "    <tr>\n",
       "      <th>1</th>\n",
       "      <td>19142</td>\n",
       "      <td>ADELE BREAKS “Best Album” Grammy Award In Half...</td>\n",
       "      <td>I can t possibly accept this award,  she said...</td>\n",
       "      <td>left-news</td>\n",
       "      <td>Feb 13, 2017</td>\n",
       "      <td>Fake</td>\n",
       "    </tr>\n",
       "    <tr>\n",
       "      <th>2</th>\n",
       "      <td>6393</td>\n",
       "      <td>Trump says pharma 'getting away with murder,' ...</td>\n",
       "      <td>NEW YORK (Reuters) - U.S. President-elect Dona...</td>\n",
       "      <td>politicsNews</td>\n",
       "      <td>January 11, 2017</td>\n",
       "      <td>Real</td>\n",
       "    </tr>\n",
       "    <tr>\n",
       "      <th>3</th>\n",
       "      <td>15335</td>\n",
       "      <td>[VIDEO] WHY THE RACE WAR IS NOT REALLY ABOUT R...</td>\n",
       "      <td>The left believes they are winning this war. ...</td>\n",
       "      <td>politics</td>\n",
       "      <td>Aug 12, 2015</td>\n",
       "      <td>Fake</td>\n",
       "    </tr>\n",
       "    <tr>\n",
       "      <th>4</th>\n",
       "      <td>9141</td>\n",
       "      <td>Orlando killer expressed support for multiple ...</td>\n",
       "      <td>ORLANDO, Fla. (Reuters) - Orlando nightclub ki...</td>\n",
       "      <td>politicsNews</td>\n",
       "      <td>June 12, 2016</td>\n",
       "      <td>Real</td>\n",
       "    </tr>\n",
       "  </tbody>\n",
       "</table>\n",
       "</div>"
      ],
      "text/plain": [
       "   Unnamed: 0                                              title  \\\n",
       "0        3509   Time Magazine Makes Trump Their ‘Person Of Th...   \n",
       "1       19142  ADELE BREAKS “Best Album” Grammy Award In Half...   \n",
       "2        6393  Trump says pharma 'getting away with murder,' ...   \n",
       "3       15335  [VIDEO] WHY THE RACE WAR IS NOT REALLY ABOUT R...   \n",
       "4        9141  Orlando killer expressed support for multiple ...   \n",
       "\n",
       "                                                text       subject  \\\n",
       "0  If you haven t heard, Donald Trump has joined ...          News   \n",
       "1   I can t possibly accept this award,  she said...     left-news   \n",
       "2  NEW YORK (Reuters) - U.S. President-elect Dona...  politicsNews   \n",
       "3   The left believes they are winning this war. ...      politics   \n",
       "4  ORLANDO, Fla. (Reuters) - Orlando nightclub ki...  politicsNews   \n",
       "\n",
       "                date label  \n",
       "0   December 8, 2016  Fake  \n",
       "1       Feb 13, 2017  Fake  \n",
       "2  January 11, 2017   Real  \n",
       "3       Aug 12, 2015  Fake  \n",
       "4     June 12, 2016   Real  "
      ]
     },
     "execution_count": 4,
     "metadata": {},
     "output_type": "execute_result"
    }
   ],
   "source": [
    "df.head()"
   ]
  },
  {
   "cell_type": "code",
   "execution_count": 5,
   "id": "ed4b1935",
   "metadata": {},
   "outputs": [
    {
     "data": {
      "text/plain": [
       "(44898, 6)"
      ]
     },
     "execution_count": 5,
     "metadata": {},
     "output_type": "execute_result"
    }
   ],
   "source": [
    "df.shape"
   ]
  },
  {
   "cell_type": "code",
   "execution_count": 6,
   "id": "36e5e34e",
   "metadata": {},
   "outputs": [
    {
     "data": {
      "text/html": [
       "<div>\n",
       "<style scoped>\n",
       "    .dataframe tbody tr th:only-of-type {\n",
       "        vertical-align: middle;\n",
       "    }\n",
       "\n",
       "    .dataframe tbody tr th {\n",
       "        vertical-align: top;\n",
       "    }\n",
       "\n",
       "    .dataframe thead th {\n",
       "        text-align: right;\n",
       "    }\n",
       "</style>\n",
       "<table border=\"1\" class=\"dataframe\">\n",
       "  <thead>\n",
       "    <tr style=\"text-align: right;\">\n",
       "      <th></th>\n",
       "      <th>Unnamed: 0</th>\n",
       "      <th>title</th>\n",
       "      <th>text</th>\n",
       "      <th>subject</th>\n",
       "      <th>date</th>\n",
       "      <th>label</th>\n",
       "    </tr>\n",
       "  </thead>\n",
       "  <tbody>\n",
       "    <tr>\n",
       "      <th>0</th>\n",
       "      <td>3509</td>\n",
       "      <td>Time Magazine Makes Trump Their ‘Person Of Th...</td>\n",
       "      <td>If you haven t heard, Donald Trump has joined ...</td>\n",
       "      <td>News</td>\n",
       "      <td>December 8, 2016</td>\n",
       "      <td>Fake</td>\n",
       "    </tr>\n",
       "    <tr>\n",
       "      <th>1</th>\n",
       "      <td>19142</td>\n",
       "      <td>ADELE BREAKS “Best Album” Grammy Award In Half...</td>\n",
       "      <td>I can t possibly accept this award,  she said...</td>\n",
       "      <td>left-news</td>\n",
       "      <td>Feb 13, 2017</td>\n",
       "      <td>Fake</td>\n",
       "    </tr>\n",
       "    <tr>\n",
       "      <th>2</th>\n",
       "      <td>6393</td>\n",
       "      <td>Trump says pharma 'getting away with murder,' ...</td>\n",
       "      <td>NEW YORK (Reuters) - U.S. President-elect Dona...</td>\n",
       "      <td>politicsNews</td>\n",
       "      <td>January 11, 2017</td>\n",
       "      <td>Real</td>\n",
       "    </tr>\n",
       "    <tr>\n",
       "      <th>3</th>\n",
       "      <td>15335</td>\n",
       "      <td>[VIDEO] WHY THE RACE WAR IS NOT REALLY ABOUT R...</td>\n",
       "      <td>The left believes they are winning this war. ...</td>\n",
       "      <td>politics</td>\n",
       "      <td>Aug 12, 2015</td>\n",
       "      <td>Fake</td>\n",
       "    </tr>\n",
       "    <tr>\n",
       "      <th>4</th>\n",
       "      <td>9141</td>\n",
       "      <td>Orlando killer expressed support for multiple ...</td>\n",
       "      <td>ORLANDO, Fla. (Reuters) - Orlando nightclub ki...</td>\n",
       "      <td>politicsNews</td>\n",
       "      <td>June 12, 2016</td>\n",
       "      <td>Real</td>\n",
       "    </tr>\n",
       "    <tr>\n",
       "      <th>...</th>\n",
       "      <td>...</td>\n",
       "      <td>...</td>\n",
       "      <td>...</td>\n",
       "      <td>...</td>\n",
       "      <td>...</td>\n",
       "      <td>...</td>\n",
       "    </tr>\n",
       "    <tr>\n",
       "      <th>44893</th>\n",
       "      <td>4982</td>\n",
       "      <td>Louisiana Governor Blasts Trump Over His Phot...</td>\n",
       "      <td>While Republicans try to make Louisiana s dead...</td>\n",
       "      <td>News</td>\n",
       "      <td>August 19, 2016</td>\n",
       "      <td>Fake</td>\n",
       "    </tr>\n",
       "    <tr>\n",
       "      <th>44894</th>\n",
       "      <td>9263</td>\n",
       "      <td>Clinton clinches Democratic nomination: AP del...</td>\n",
       "      <td>WASHINGTON (Reuters) - Hillary Clinton has rea...</td>\n",
       "      <td>politicsNews</td>\n",
       "      <td>June 7, 2016</td>\n",
       "      <td>Real</td>\n",
       "    </tr>\n",
       "    <tr>\n",
       "      <th>44895</th>\n",
       "      <td>19784</td>\n",
       "      <td>YOU’RE FIRED! MITT ROMNEY’S NIECE Tells MI GOP...</td>\n",
       "      <td>Some of the most divisive, partisan politics c...</td>\n",
       "      <td>left-news</td>\n",
       "      <td>Oct 18, 2016</td>\n",
       "      <td>Fake</td>\n",
       "    </tr>\n",
       "    <tr>\n",
       "      <th>44896</th>\n",
       "      <td>11361</td>\n",
       "      <td>TRUMP SUPPORTER FIGHTS BACK: Man Wearing “Make...</td>\n",
       "      <td>Enough is enough. Americans need to start maki...</td>\n",
       "      <td>politics</td>\n",
       "      <td>Mar 19, 2017</td>\n",
       "      <td>Fake</td>\n",
       "    </tr>\n",
       "    <tr>\n",
       "      <th>44897</th>\n",
       "      <td>14493</td>\n",
       "      <td>THE BEST ANTI-HILLARY AD EVER MADE…You’ll Want...</td>\n",
       "      <td>The Ted Cruz campaign has identified the enemy...</td>\n",
       "      <td>politics</td>\n",
       "      <td>Feb 12, 2016</td>\n",
       "      <td>Fake</td>\n",
       "    </tr>\n",
       "  </tbody>\n",
       "</table>\n",
       "<p>44898 rows × 6 columns</p>\n",
       "</div>"
      ],
      "text/plain": [
       "       Unnamed: 0                                              title  \\\n",
       "0            3509   Time Magazine Makes Trump Their ‘Person Of Th...   \n",
       "1           19142  ADELE BREAKS “Best Album” Grammy Award In Half...   \n",
       "2            6393  Trump says pharma 'getting away with murder,' ...   \n",
       "3           15335  [VIDEO] WHY THE RACE WAR IS NOT REALLY ABOUT R...   \n",
       "4            9141  Orlando killer expressed support for multiple ...   \n",
       "...           ...                                                ...   \n",
       "44893        4982   Louisiana Governor Blasts Trump Over His Phot...   \n",
       "44894        9263  Clinton clinches Democratic nomination: AP del...   \n",
       "44895       19784  YOU’RE FIRED! MITT ROMNEY’S NIECE Tells MI GOP...   \n",
       "44896       11361  TRUMP SUPPORTER FIGHTS BACK: Man Wearing “Make...   \n",
       "44897       14493  THE BEST ANTI-HILLARY AD EVER MADE…You’ll Want...   \n",
       "\n",
       "                                                    text       subject  \\\n",
       "0      If you haven t heard, Donald Trump has joined ...          News   \n",
       "1       I can t possibly accept this award,  she said...     left-news   \n",
       "2      NEW YORK (Reuters) - U.S. President-elect Dona...  politicsNews   \n",
       "3       The left believes they are winning this war. ...      politics   \n",
       "4      ORLANDO, Fla. (Reuters) - Orlando nightclub ki...  politicsNews   \n",
       "...                                                  ...           ...   \n",
       "44893  While Republicans try to make Louisiana s dead...          News   \n",
       "44894  WASHINGTON (Reuters) - Hillary Clinton has rea...  politicsNews   \n",
       "44895  Some of the most divisive, partisan politics c...     left-news   \n",
       "44896  Enough is enough. Americans need to start maki...      politics   \n",
       "44897  The Ted Cruz campaign has identified the enemy...      politics   \n",
       "\n",
       "                    date label  \n",
       "0       December 8, 2016  Fake  \n",
       "1           Feb 13, 2017  Fake  \n",
       "2      January 11, 2017   Real  \n",
       "3           Aug 12, 2015  Fake  \n",
       "4         June 12, 2016   Real  \n",
       "...                  ...   ...  \n",
       "44893    August 19, 2016  Fake  \n",
       "44894      June 7, 2016   Real  \n",
       "44895       Oct 18, 2016  Fake  \n",
       "44896       Mar 19, 2017  Fake  \n",
       "44897       Feb 12, 2016  Fake  \n",
       "\n",
       "[44898 rows x 6 columns]"
      ]
     },
     "execution_count": 6,
     "metadata": {},
     "output_type": "execute_result"
    }
   ],
   "source": [
    "df"
   ]
  },
  {
   "cell_type": "code",
   "execution_count": 7,
   "id": "02682672",
   "metadata": {},
   "outputs": [
    {
     "data": {
      "text/plain": [
       "Unnamed: 0    0\n",
       "title         0\n",
       "text          0\n",
       "subject       0\n",
       "date          0\n",
       "label         0\n",
       "dtype: int64"
      ]
     },
     "execution_count": 7,
     "metadata": {},
     "output_type": "execute_result"
    }
   ],
   "source": [
    "df.isnull().sum()"
   ]
  },
  {
   "cell_type": "code",
   "execution_count": 8,
   "id": "9ebe9d5f",
   "metadata": {},
   "outputs": [],
   "source": [
    "labels=df.label"
   ]
  },
  {
   "cell_type": "code",
   "execution_count": 9,
   "id": "867e43c5",
   "metadata": {},
   "outputs": [
    {
     "data": {
      "text/plain": [
       "0    Fake\n",
       "1    Fake\n",
       "2    Real\n",
       "3    Fake\n",
       "4    Real\n",
       "Name: label, dtype: object"
      ]
     },
     "execution_count": 9,
     "metadata": {},
     "output_type": "execute_result"
    }
   ],
   "source": [
    "labels.head()"
   ]
  },
  {
   "cell_type": "code",
   "execution_count": 10,
   "id": "2b6ccf91",
   "metadata": {},
   "outputs": [],
   "source": [
    "x_train,x_test,y_train,y_test=train_test_split(df['text'],labels,test_size=0.2,random_state=20) #random state is just like seed"
   ]
  },
  {
   "cell_type": "code",
   "execution_count": 11,
   "id": "3ef639e6",
   "metadata": {},
   "outputs": [],
   "source": [
    "# TFIDF Initialization\n",
    "vector = TfidfVectorizer(stop_words='english',max_df=0.7) #max_df is max document freq "
   ]
  },
  {
   "cell_type": "code",
   "execution_count": 12,
   "id": "fb0014e0",
   "metadata": {},
   "outputs": [],
   "source": [
    "# fit and transform\n",
    "tf_train=vector.fit_transform(x_train)\n",
    "tf_test=vector.transform(x_test)"
   ]
  },
  {
   "cell_type": "code",
   "execution_count": 13,
   "id": "e7aeb8e5",
   "metadata": {},
   "outputs": [
    {
     "data": {
      "text/html": [
       "<style>#sk-container-id-1 {color: black;background-color: white;}#sk-container-id-1 pre{padding: 0;}#sk-container-id-1 div.sk-toggleable {background-color: white;}#sk-container-id-1 label.sk-toggleable__label {cursor: pointer;display: block;width: 100%;margin-bottom: 0;padding: 0.3em;box-sizing: border-box;text-align: center;}#sk-container-id-1 label.sk-toggleable__label-arrow:before {content: \"▸\";float: left;margin-right: 0.25em;color: #696969;}#sk-container-id-1 label.sk-toggleable__label-arrow:hover:before {color: black;}#sk-container-id-1 div.sk-estimator:hover label.sk-toggleable__label-arrow:before {color: black;}#sk-container-id-1 div.sk-toggleable__content {max-height: 0;max-width: 0;overflow: hidden;text-align: left;background-color: #f0f8ff;}#sk-container-id-1 div.sk-toggleable__content pre {margin: 0.2em;color: black;border-radius: 0.25em;background-color: #f0f8ff;}#sk-container-id-1 input.sk-toggleable__control:checked~div.sk-toggleable__content {max-height: 200px;max-width: 100%;overflow: auto;}#sk-container-id-1 input.sk-toggleable__control:checked~label.sk-toggleable__label-arrow:before {content: \"▾\";}#sk-container-id-1 div.sk-estimator input.sk-toggleable__control:checked~label.sk-toggleable__label {background-color: #d4ebff;}#sk-container-id-1 div.sk-label input.sk-toggleable__control:checked~label.sk-toggleable__label {background-color: #d4ebff;}#sk-container-id-1 input.sk-hidden--visually {border: 0;clip: rect(1px 1px 1px 1px);clip: rect(1px, 1px, 1px, 1px);height: 1px;margin: -1px;overflow: hidden;padding: 0;position: absolute;width: 1px;}#sk-container-id-1 div.sk-estimator {font-family: monospace;background-color: #f0f8ff;border: 1px dotted black;border-radius: 0.25em;box-sizing: border-box;margin-bottom: 0.5em;}#sk-container-id-1 div.sk-estimator:hover {background-color: #d4ebff;}#sk-container-id-1 div.sk-parallel-item::after {content: \"\";width: 100%;border-bottom: 1px solid gray;flex-grow: 1;}#sk-container-id-1 div.sk-label:hover label.sk-toggleable__label {background-color: #d4ebff;}#sk-container-id-1 div.sk-serial::before {content: \"\";position: absolute;border-left: 1px solid gray;box-sizing: border-box;top: 0;bottom: 0;left: 50%;z-index: 0;}#sk-container-id-1 div.sk-serial {display: flex;flex-direction: column;align-items: center;background-color: white;padding-right: 0.2em;padding-left: 0.2em;position: relative;}#sk-container-id-1 div.sk-item {position: relative;z-index: 1;}#sk-container-id-1 div.sk-parallel {display: flex;align-items: stretch;justify-content: center;background-color: white;position: relative;}#sk-container-id-1 div.sk-item::before, #sk-container-id-1 div.sk-parallel-item::before {content: \"\";position: absolute;border-left: 1px solid gray;box-sizing: border-box;top: 0;bottom: 0;left: 50%;z-index: -1;}#sk-container-id-1 div.sk-parallel-item {display: flex;flex-direction: column;z-index: 1;position: relative;background-color: white;}#sk-container-id-1 div.sk-parallel-item:first-child::after {align-self: flex-end;width: 50%;}#sk-container-id-1 div.sk-parallel-item:last-child::after {align-self: flex-start;width: 50%;}#sk-container-id-1 div.sk-parallel-item:only-child::after {width: 0;}#sk-container-id-1 div.sk-dashed-wrapped {border: 1px dashed gray;margin: 0 0.4em 0.5em 0.4em;box-sizing: border-box;padding-bottom: 0.4em;background-color: white;}#sk-container-id-1 div.sk-label label {font-family: monospace;font-weight: bold;display: inline-block;line-height: 1.2em;}#sk-container-id-1 div.sk-label-container {text-align: center;}#sk-container-id-1 div.sk-container {/* jupyter's `normalize.less` sets `[hidden] { display: none; }` but bootstrap.min.css set `[hidden] { display: none !important; }` so we also need the `!important` here to be able to override the default hidden behavior on the sphinx rendered scikit-learn.org. See: https://github.com/scikit-learn/scikit-learn/issues/21755 */display: inline-block !important;position: relative;}#sk-container-id-1 div.sk-text-repr-fallback {display: none;}</style><div id=\"sk-container-id-1\" class=\"sk-top-container\"><div class=\"sk-text-repr-fallback\"><pre>PassiveAggressiveClassifier(max_iter=50)</pre><b>In a Jupyter environment, please rerun this cell to show the HTML representation or trust the notebook. <br />On GitHub, the HTML representation is unable to render, please try loading this page with nbviewer.org.</b></div><div class=\"sk-container\" hidden><div class=\"sk-item\"><div class=\"sk-estimator sk-toggleable\"><input class=\"sk-toggleable__control sk-hidden--visually\" id=\"sk-estimator-id-1\" type=\"checkbox\" checked><label for=\"sk-estimator-id-1\" class=\"sk-toggleable__label sk-toggleable__label-arrow\">PassiveAggressiveClassifier</label><div class=\"sk-toggleable__content\"><pre>PassiveAggressiveClassifier(max_iter=50)</pre></div></div></div></div></div>"
      ],
      "text/plain": [
       "PassiveAggressiveClassifier(max_iter=50)"
      ]
     },
     "execution_count": 13,
     "metadata": {},
     "output_type": "execute_result"
    }
   ],
   "source": [
    "# initialize passive aggressive classifier\n",
    "pac=PassiveAggressiveClassifier(max_iter=50)\n",
    "pac.fit(tf_train,y_train)"
   ]
  },
  {
   "cell_type": "code",
   "execution_count": 14,
   "id": "b94cc35d",
   "metadata": {},
   "outputs": [],
   "source": [
    "# predicting on test data sets\n",
    "y_pred=pac.predict(tf_test)"
   ]
  },
  {
   "cell_type": "code",
   "execution_count": 15,
   "id": "c5107943",
   "metadata": {},
   "outputs": [],
   "source": [
    "score = accuracy_score(y_test,y_pred)"
   ]
  },
  {
   "cell_type": "code",
   "execution_count": 16,
   "id": "33d37aa2",
   "metadata": {},
   "outputs": [
    {
     "name": "stdout",
     "output_type": "stream",
     "text": [
      "Accuracy is : 99.44%\n"
     ]
    }
   ],
   "source": [
    "print(f\"Accuracy is : {round(score*100,2)}%\")"
   ]
  },
  {
   "cell_type": "code",
   "execution_count": 17,
   "id": "a93dd887",
   "metadata": {},
   "outputs": [
    {
     "data": {
      "text/plain": [
       "array([[4634,   30],\n",
       "       [  20, 4296]], dtype=int64)"
      ]
     },
     "execution_count": 17,
     "metadata": {},
     "output_type": "execute_result"
    }
   ],
   "source": [
    "# Confusion Matrix\n",
    "confusion_matrix(y_test,y_pred,labels=['Fake','Real'])"
   ]
  },
  {
   "cell_type": "code",
   "execution_count": 18,
   "id": "7caab993",
   "metadata": {},
   "outputs": [
    {
     "data": {
      "text/plain": [
       "['model.sav']"
      ]
     },
     "execution_count": 18,
     "metadata": {},
     "output_type": "execute_result"
    }
   ],
   "source": [
    "# saving model\n",
    "file_name='model.sav'\n",
    "joblib.dump(pac,file_name)"
   ]
  },
  {
   "cell_type": "code",
   "execution_count": 19,
   "id": "d0830585",
   "metadata": {},
   "outputs": [
    {
     "data": {
      "text/plain": [
       "['vector.sav']"
      ]
     },
     "execution_count": 19,
     "metadata": {},
     "output_type": "execute_result"
    }
   ],
   "source": [
    "#saving vectorizer model\n",
    "file_name_1='vector.sav'\n",
    "joblib.dump(vector,file_name_1)"
   ]
  },
  {
   "cell_type": "code",
   "execution_count": 31,
   "id": "71be6a53",
   "metadata": {},
   "outputs": [],
   "source": [
    "#saving test data\n",
    "frames=[x_test,y_test]\n",
    "test=pd.concat(frames,axis=1)\n",
    "test.to_csv('testdata.csv')"
   ]
  },
  {
   "cell_type": "code",
   "execution_count": null,
   "id": "e7099137",
   "metadata": {},
   "outputs": [],
   "source": []
  },
  {
   "cell_type": "code",
   "execution_count": null,
   "id": "9f8160d8",
   "metadata": {},
   "outputs": [],
   "source": []
  }
 ],
 "metadata": {
  "kernelspec": {
   "display_name": "Python 3 (ipykernel)",
   "language": "python",
   "name": "python3"
  },
  "language_info": {
   "codemirror_mode": {
    "name": "ipython",
    "version": 3
   },
   "file_extension": ".py",
   "mimetype": "text/x-python",
   "name": "python",
   "nbconvert_exporter": "python",
   "pygments_lexer": "ipython3",
   "version": "3.10.7"
  }
 },
 "nbformat": 4,
 "nbformat_minor": 5
}
