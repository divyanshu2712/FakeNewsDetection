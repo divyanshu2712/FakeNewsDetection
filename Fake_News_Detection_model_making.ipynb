{
 "cells": [
  {
   "cell_type": "markdown",
   "id": "e2cf7a34",
   "metadata": {},
   "source": [
    "## Fake News Detection"
   ]
  },
  {
   "cell_type": "markdown",
   "id": "aed38f9a",
   "metadata": {},
   "source": [
    "### import libraries"
   ]
  },
  {
   "cell_type": "code",
   "execution_count": 1,
   "id": "31cbac14",
   "metadata": {},
   "outputs": [],
   "source": [
    "import pandas as pd\n",
    "import numpy as np\n",
    "import matplotlib.pyplot as plt\n",
    "import joblib\n",
    "from sklearn.model_selection import train_test_split\n",
    "from sklearn.feature_extraction.text import TfidfVectorizer\n",
    "from sklearn.linear_model import PassiveAggressiveClassifier\n",
    "from sklearn.metrics import accuracy_score,confusion_matrix,classification_report\n",
    "from wordcloud import WordCloud,STOPWORDS"
   ]
  },
  {
   "cell_type": "markdown",
   "id": "97bf14c3",
   "metadata": {},
   "source": [
    "**Importing Datasets**"
   ]
  },
  {
   "cell_type": "markdown",
   "id": "48f13537",
   "metadata": {},
   "source": [
    "**Performing Data Preprocessing**"
   ]
  },
  {
   "cell_type": "code",
   "execution_count": 2,
   "id": "f8455e2b",
   "metadata": {},
   "outputs": [],
   "source": [
    "df=pd.read_csv('newsdata.csv')\n",
    "df1=pd.read_csv('news_dataset.csv')"
   ]
  },
  {
   "cell_type": "code",
   "execution_count": 3,
   "id": "378a2fe0",
   "metadata": {},
   "outputs": [
    {
     "data": {
      "text/html": [
       "<div>\n",
       "<style scoped>\n",
       "    .dataframe tbody tr th:only-of-type {\n",
       "        vertical-align: middle;\n",
       "    }\n",
       "\n",
       "    .dataframe tbody tr th {\n",
       "        vertical-align: top;\n",
       "    }\n",
       "\n",
       "    .dataframe thead th {\n",
       "        text-align: right;\n",
       "    }\n",
       "</style>\n",
       "<table border=\"1\" class=\"dataframe\">\n",
       "  <thead>\n",
       "    <tr style=\"text-align: right;\">\n",
       "      <th></th>\n",
       "      <th>Unnamed: 0</th>\n",
       "      <th>title</th>\n",
       "      <th>text</th>\n",
       "      <th>subject</th>\n",
       "      <th>date</th>\n",
       "      <th>label</th>\n",
       "    </tr>\n",
       "  </thead>\n",
       "  <tbody>\n",
       "    <tr>\n",
       "      <th>0</th>\n",
       "      <td>3509</td>\n",
       "      <td>Time Magazine Makes Trump Their ‘Person Of Th...</td>\n",
       "      <td>If you haven t heard, Donald Trump has joined ...</td>\n",
       "      <td>News</td>\n",
       "      <td>December 8, 2016</td>\n",
       "      <td>Fake</td>\n",
       "    </tr>\n",
       "    <tr>\n",
       "      <th>1</th>\n",
       "      <td>19142</td>\n",
       "      <td>ADELE BREAKS “Best Album” Grammy Award In Half...</td>\n",
       "      <td>I can t possibly accept this award,  she said...</td>\n",
       "      <td>left-news</td>\n",
       "      <td>Feb 13, 2017</td>\n",
       "      <td>Fake</td>\n",
       "    </tr>\n",
       "    <tr>\n",
       "      <th>2</th>\n",
       "      <td>6393</td>\n",
       "      <td>Trump says pharma 'getting away with murder,' ...</td>\n",
       "      <td>NEW YORK (Reuters) - U.S. President-elect Dona...</td>\n",
       "      <td>politicsNews</td>\n",
       "      <td>January 11, 2017</td>\n",
       "      <td>Real</td>\n",
       "    </tr>\n",
       "    <tr>\n",
       "      <th>3</th>\n",
       "      <td>15335</td>\n",
       "      <td>[VIDEO] WHY THE RACE WAR IS NOT REALLY ABOUT R...</td>\n",
       "      <td>The left believes they are winning this war. ...</td>\n",
       "      <td>politics</td>\n",
       "      <td>Aug 12, 2015</td>\n",
       "      <td>Fake</td>\n",
       "    </tr>\n",
       "    <tr>\n",
       "      <th>4</th>\n",
       "      <td>9141</td>\n",
       "      <td>Orlando killer expressed support for multiple ...</td>\n",
       "      <td>ORLANDO, Fla. (Reuters) - Orlando nightclub ki...</td>\n",
       "      <td>politicsNews</td>\n",
       "      <td>June 12, 2016</td>\n",
       "      <td>Real</td>\n",
       "    </tr>\n",
       "  </tbody>\n",
       "</table>\n",
       "</div>"
      ],
      "text/plain": [
       "   Unnamed: 0                                              title  \\\n",
       "0        3509   Time Magazine Makes Trump Their ‘Person Of Th...   \n",
       "1       19142  ADELE BREAKS “Best Album” Grammy Award In Half...   \n",
       "2        6393  Trump says pharma 'getting away with murder,' ...   \n",
       "3       15335  [VIDEO] WHY THE RACE WAR IS NOT REALLY ABOUT R...   \n",
       "4        9141  Orlando killer expressed support for multiple ...   \n",
       "\n",
       "                                                text       subject  \\\n",
       "0  If you haven t heard, Donald Trump has joined ...          News   \n",
       "1   I can t possibly accept this award,  she said...     left-news   \n",
       "2  NEW YORK (Reuters) - U.S. President-elect Dona...  politicsNews   \n",
       "3   The left believes they are winning this war. ...      politics   \n",
       "4  ORLANDO, Fla. (Reuters) - Orlando nightclub ki...  politicsNews   \n",
       "\n",
       "                date label  \n",
       "0   December 8, 2016  Fake  \n",
       "1       Feb 13, 2017  Fake  \n",
       "2  January 11, 2017   Real  \n",
       "3       Aug 12, 2015  Fake  \n",
       "4     June 12, 2016   Real  "
      ]
     },
     "execution_count": 3,
     "metadata": {},
     "output_type": "execute_result"
    }
   ],
   "source": [
    "df.head()"
   ]
  },
  {
   "cell_type": "code",
   "execution_count": 4,
   "id": "2226922f",
   "metadata": {},
   "outputs": [
    {
     "data": {
      "text/html": [
       "<div>\n",
       "<style scoped>\n",
       "    .dataframe tbody tr th:only-of-type {\n",
       "        vertical-align: middle;\n",
       "    }\n",
       "\n",
       "    .dataframe tbody tr th {\n",
       "        vertical-align: top;\n",
       "    }\n",
       "\n",
       "    .dataframe thead th {\n",
       "        text-align: right;\n",
       "    }\n",
       "</style>\n",
       "<table border=\"1\" class=\"dataframe\">\n",
       "  <thead>\n",
       "    <tr style=\"text-align: right;\">\n",
       "      <th></th>\n",
       "      <th>Unnamed: 0</th>\n",
       "      <th>title</th>\n",
       "      <th>text</th>\n",
       "      <th>subject</th>\n",
       "      <th>date</th>\n",
       "      <th>label</th>\n",
       "    </tr>\n",
       "  </thead>\n",
       "  <tbody>\n",
       "    <tr>\n",
       "      <th>44893</th>\n",
       "      <td>4982</td>\n",
       "      <td>Louisiana Governor Blasts Trump Over His Phot...</td>\n",
       "      <td>While Republicans try to make Louisiana s dead...</td>\n",
       "      <td>News</td>\n",
       "      <td>August 19, 2016</td>\n",
       "      <td>Fake</td>\n",
       "    </tr>\n",
       "    <tr>\n",
       "      <th>44894</th>\n",
       "      <td>9263</td>\n",
       "      <td>Clinton clinches Democratic nomination: AP del...</td>\n",
       "      <td>WASHINGTON (Reuters) - Hillary Clinton has rea...</td>\n",
       "      <td>politicsNews</td>\n",
       "      <td>June 7, 2016</td>\n",
       "      <td>Real</td>\n",
       "    </tr>\n",
       "    <tr>\n",
       "      <th>44895</th>\n",
       "      <td>19784</td>\n",
       "      <td>YOU’RE FIRED! MITT ROMNEY’S NIECE Tells MI GOP...</td>\n",
       "      <td>Some of the most divisive, partisan politics c...</td>\n",
       "      <td>left-news</td>\n",
       "      <td>Oct 18, 2016</td>\n",
       "      <td>Fake</td>\n",
       "    </tr>\n",
       "    <tr>\n",
       "      <th>44896</th>\n",
       "      <td>11361</td>\n",
       "      <td>TRUMP SUPPORTER FIGHTS BACK: Man Wearing “Make...</td>\n",
       "      <td>Enough is enough. Americans need to start maki...</td>\n",
       "      <td>politics</td>\n",
       "      <td>Mar 19, 2017</td>\n",
       "      <td>Fake</td>\n",
       "    </tr>\n",
       "    <tr>\n",
       "      <th>44897</th>\n",
       "      <td>14493</td>\n",
       "      <td>THE BEST ANTI-HILLARY AD EVER MADE…You’ll Want...</td>\n",
       "      <td>The Ted Cruz campaign has identified the enemy...</td>\n",
       "      <td>politics</td>\n",
       "      <td>Feb 12, 2016</td>\n",
       "      <td>Fake</td>\n",
       "    </tr>\n",
       "  </tbody>\n",
       "</table>\n",
       "</div>"
      ],
      "text/plain": [
       "       Unnamed: 0                                              title  \\\n",
       "44893        4982   Louisiana Governor Blasts Trump Over His Phot...   \n",
       "44894        9263  Clinton clinches Democratic nomination: AP del...   \n",
       "44895       19784  YOU’RE FIRED! MITT ROMNEY’S NIECE Tells MI GOP...   \n",
       "44896       11361  TRUMP SUPPORTER FIGHTS BACK: Man Wearing “Make...   \n",
       "44897       14493  THE BEST ANTI-HILLARY AD EVER MADE…You’ll Want...   \n",
       "\n",
       "                                                    text       subject  \\\n",
       "44893  While Republicans try to make Louisiana s dead...          News   \n",
       "44894  WASHINGTON (Reuters) - Hillary Clinton has rea...  politicsNews   \n",
       "44895  Some of the most divisive, partisan politics c...     left-news   \n",
       "44896  Enough is enough. Americans need to start maki...      politics   \n",
       "44897  The Ted Cruz campaign has identified the enemy...      politics   \n",
       "\n",
       "                  date label  \n",
       "44893  August 19, 2016  Fake  \n",
       "44894    June 7, 2016   Real  \n",
       "44895     Oct 18, 2016  Fake  \n",
       "44896     Mar 19, 2017  Fake  \n",
       "44897     Feb 12, 2016  Fake  "
      ]
     },
     "execution_count": 4,
     "metadata": {},
     "output_type": "execute_result"
    }
   ],
   "source": [
    "df.tail()"
   ]
  },
  {
   "cell_type": "code",
   "execution_count": 5,
   "id": "06797a43",
   "metadata": {},
   "outputs": [
    {
     "data": {
      "text/html": [
       "<div>\n",
       "<style scoped>\n",
       "    .dataframe tbody tr th:only-of-type {\n",
       "        vertical-align: middle;\n",
       "    }\n",
       "\n",
       "    .dataframe tbody tr th {\n",
       "        vertical-align: top;\n",
       "    }\n",
       "\n",
       "    .dataframe thead th {\n",
       "        text-align: right;\n",
       "    }\n",
       "</style>\n",
       "<table border=\"1\" class=\"dataframe\">\n",
       "  <thead>\n",
       "    <tr style=\"text-align: right;\">\n",
       "      <th></th>\n",
       "      <th>label</th>\n",
       "      <th>text</th>\n",
       "    </tr>\n",
       "  </thead>\n",
       "  <tbody>\n",
       "    <tr>\n",
       "      <th>0</th>\n",
       "      <td>REAL</td>\n",
       "      <td>Payal has accused filmmaker Anurag Kashyap of ...</td>\n",
       "    </tr>\n",
       "    <tr>\n",
       "      <th>1</th>\n",
       "      <td>FAKE</td>\n",
       "      <td>A four-minute-long video of a woman criticisin...</td>\n",
       "    </tr>\n",
       "    <tr>\n",
       "      <th>2</th>\n",
       "      <td>FAKE</td>\n",
       "      <td>Republic Poll, a fake Twitter account imitatin...</td>\n",
       "    </tr>\n",
       "    <tr>\n",
       "      <th>3</th>\n",
       "      <td>REAL</td>\n",
       "      <td>Delhi teen finds place on UN green list, turns...</td>\n",
       "    </tr>\n",
       "    <tr>\n",
       "      <th>4</th>\n",
       "      <td>REAL</td>\n",
       "      <td>Delhi: A high-level meeting underway at reside...</td>\n",
       "    </tr>\n",
       "  </tbody>\n",
       "</table>\n",
       "</div>"
      ],
      "text/plain": [
       "  label                                               text\n",
       "0  REAL  Payal has accused filmmaker Anurag Kashyap of ...\n",
       "1  FAKE  A four-minute-long video of a woman criticisin...\n",
       "2  FAKE  Republic Poll, a fake Twitter account imitatin...\n",
       "3  REAL  Delhi teen finds place on UN green list, turns...\n",
       "4  REAL  Delhi: A high-level meeting underway at reside..."
      ]
     },
     "execution_count": 5,
     "metadata": {},
     "output_type": "execute_result"
    }
   ],
   "source": [
    "df1.head()"
   ]
  },
  {
   "cell_type": "code",
   "execution_count": 6,
   "id": "29fb8424",
   "metadata": {},
   "outputs": [],
   "source": [
    "df1['label'] = df1['label'].replace('REAL', 'Real')\n",
    "df1['label'] = df1['label'].replace('FAKE', 'Fake')"
   ]
  },
  {
   "cell_type": "code",
   "execution_count": 7,
   "id": "595c1a8a",
   "metadata": {},
   "outputs": [
    {
     "data": {
      "text/plain": [
       "(3729, 2)"
      ]
     },
     "execution_count": 7,
     "metadata": {},
     "output_type": "execute_result"
    }
   ],
   "source": [
    "df1.shape"
   ]
  },
  {
   "cell_type": "code",
   "execution_count": 8,
   "id": "6e0ec375",
   "metadata": {},
   "outputs": [
    {
     "data": {
      "text/plain": [
       "(44898, 6)"
      ]
     },
     "execution_count": 8,
     "metadata": {},
     "output_type": "execute_result"
    }
   ],
   "source": [
    "df.shape"
   ]
  },
  {
   "cell_type": "code",
   "execution_count": 9,
   "id": "922a8f58",
   "metadata": {},
   "outputs": [],
   "source": [
    "train1=df[['text','label']]"
   ]
  },
  {
   "cell_type": "code",
   "execution_count": 10,
   "id": "f152bde9",
   "metadata": {},
   "outputs": [
    {
     "data": {
      "text/html": [
       "<div>\n",
       "<style scoped>\n",
       "    .dataframe tbody tr th:only-of-type {\n",
       "        vertical-align: middle;\n",
       "    }\n",
       "\n",
       "    .dataframe tbody tr th {\n",
       "        vertical-align: top;\n",
       "    }\n",
       "\n",
       "    .dataframe thead th {\n",
       "        text-align: right;\n",
       "    }\n",
       "</style>\n",
       "<table border=\"1\" class=\"dataframe\">\n",
       "  <thead>\n",
       "    <tr style=\"text-align: right;\">\n",
       "      <th></th>\n",
       "      <th>text</th>\n",
       "      <th>label</th>\n",
       "    </tr>\n",
       "  </thead>\n",
       "  <tbody>\n",
       "    <tr>\n",
       "      <th>0</th>\n",
       "      <td>If you haven t heard, Donald Trump has joined ...</td>\n",
       "      <td>Fake</td>\n",
       "    </tr>\n",
       "    <tr>\n",
       "      <th>1</th>\n",
       "      <td>I can t possibly accept this award,  she said...</td>\n",
       "      <td>Fake</td>\n",
       "    </tr>\n",
       "    <tr>\n",
       "      <th>2</th>\n",
       "      <td>NEW YORK (Reuters) - U.S. President-elect Dona...</td>\n",
       "      <td>Real</td>\n",
       "    </tr>\n",
       "    <tr>\n",
       "      <th>3</th>\n",
       "      <td>The left believes they are winning this war. ...</td>\n",
       "      <td>Fake</td>\n",
       "    </tr>\n",
       "    <tr>\n",
       "      <th>4</th>\n",
       "      <td>ORLANDO, Fla. (Reuters) - Orlando nightclub ki...</td>\n",
       "      <td>Real</td>\n",
       "    </tr>\n",
       "  </tbody>\n",
       "</table>\n",
       "</div>"
      ],
      "text/plain": [
       "                                                text label\n",
       "0  If you haven t heard, Donald Trump has joined ...  Fake\n",
       "1   I can t possibly accept this award,  she said...  Fake\n",
       "2  NEW YORK (Reuters) - U.S. President-elect Dona...  Real\n",
       "3   The left believes they are winning this war. ...  Fake\n",
       "4  ORLANDO, Fla. (Reuters) - Orlando nightclub ki...  Real"
      ]
     },
     "execution_count": 10,
     "metadata": {},
     "output_type": "execute_result"
    }
   ],
   "source": [
    "train1.head()"
   ]
  },
  {
   "cell_type": "code",
   "execution_count": 11,
   "id": "2c846ba6",
   "metadata": {},
   "outputs": [],
   "source": [
    "frames=[train1,df1]\n",
    "train_dataset=pd.concat(frames,ignore_index=True)"
   ]
  },
  {
   "cell_type": "code",
   "execution_count": 12,
   "id": "42417c71",
   "metadata": {},
   "outputs": [
    {
     "data": {
      "text/plain": [
       "(48627, 2)"
      ]
     },
     "execution_count": 12,
     "metadata": {},
     "output_type": "execute_result"
    }
   ],
   "source": [
    "train_dataset.shape"
   ]
  },
  {
   "cell_type": "code",
   "execution_count": 13,
   "id": "02468acd",
   "metadata": {},
   "outputs": [
    {
     "data": {
      "text/html": [
       "<div>\n",
       "<style scoped>\n",
       "    .dataframe tbody tr th:only-of-type {\n",
       "        vertical-align: middle;\n",
       "    }\n",
       "\n",
       "    .dataframe tbody tr th {\n",
       "        vertical-align: top;\n",
       "    }\n",
       "\n",
       "    .dataframe thead th {\n",
       "        text-align: right;\n",
       "    }\n",
       "</style>\n",
       "<table border=\"1\" class=\"dataframe\">\n",
       "  <thead>\n",
       "    <tr style=\"text-align: right;\">\n",
       "      <th></th>\n",
       "      <th>text</th>\n",
       "      <th>label</th>\n",
       "    </tr>\n",
       "  </thead>\n",
       "  <tbody>\n",
       "    <tr>\n",
       "      <th>0</th>\n",
       "      <td>If you haven t heard, Donald Trump has joined ...</td>\n",
       "      <td>Fake</td>\n",
       "    </tr>\n",
       "    <tr>\n",
       "      <th>1</th>\n",
       "      <td>I can t possibly accept this award,  she said...</td>\n",
       "      <td>Fake</td>\n",
       "    </tr>\n",
       "    <tr>\n",
       "      <th>2</th>\n",
       "      <td>NEW YORK (Reuters) - U.S. President-elect Dona...</td>\n",
       "      <td>Real</td>\n",
       "    </tr>\n",
       "    <tr>\n",
       "      <th>3</th>\n",
       "      <td>The left believes they are winning this war. ...</td>\n",
       "      <td>Fake</td>\n",
       "    </tr>\n",
       "    <tr>\n",
       "      <th>4</th>\n",
       "      <td>ORLANDO, Fla. (Reuters) - Orlando nightclub ki...</td>\n",
       "      <td>Real</td>\n",
       "    </tr>\n",
       "  </tbody>\n",
       "</table>\n",
       "</div>"
      ],
      "text/plain": [
       "                                                text label\n",
       "0  If you haven t heard, Donald Trump has joined ...  Fake\n",
       "1   I can t possibly accept this award,  she said...  Fake\n",
       "2  NEW YORK (Reuters) - U.S. President-elect Dona...  Real\n",
       "3   The left believes they are winning this war. ...  Fake\n",
       "4  ORLANDO, Fla. (Reuters) - Orlando nightclub ki...  Real"
      ]
     },
     "execution_count": 13,
     "metadata": {},
     "output_type": "execute_result"
    }
   ],
   "source": [
    "train_dataset.head()"
   ]
  },
  {
   "cell_type": "code",
   "execution_count": 14,
   "id": "cba466f8",
   "metadata": {},
   "outputs": [],
   "source": [
    "train_dataset.dropna(inplace=True)"
   ]
  },
  {
   "cell_type": "code",
   "execution_count": 15,
   "id": "506e2e67",
   "metadata": {},
   "outputs": [
    {
     "data": {
      "text/plain": [
       "text     0\n",
       "label    0\n",
       "dtype: int64"
      ]
     },
     "execution_count": 15,
     "metadata": {},
     "output_type": "execute_result"
    }
   ],
   "source": [
    "train_dataset.isna().sum()"
   ]
  },
  {
   "cell_type": "markdown",
   "id": "b0569531",
   "metadata": {},
   "source": [
    "**Generating WordCloud for visualization**"
   ]
  },
  {
   "cell_type": "code",
   "execution_count": null,
   "id": "0338e3b4",
   "metadata": {},
   "outputs": [],
   "source": [
    "text = \" \".join(i for i in train_dataset.text)\n",
    "stopwords = set(STOPWORDS)\n",
    "wordcloud=WordCloud(width=1920,height=1080,stopwords=stopwords).generate(text)\n",
    "fig=plt.figure(figsize=(10,10))\n",
    "plt.imshow(wordcloud)\n",
    "plt.axis('off')\n",
    "plt.tight_layout(pad=0)\n",
    "plt.show()"
   ]
  },
  {
   "cell_type": "code",
   "execution_count": null,
   "id": "0a00c970",
   "metadata": {},
   "outputs": [],
   "source": [
    "for i in train_dataset.index:\n",
    "    train_dataset['text'][i]=train_dataset['text'][i].replace('\\n',\" \")"
   ]
  },
  {
   "cell_type": "code",
   "execution_count": null,
   "id": "338b4fb0",
   "metadata": {},
   "outputs": [],
   "source": [
    "for i in train_dataset.index:\n",
    "    train_dataset['text'][i]=train_dataset['text'][i].replace('\\t',\" \")"
   ]
  },
  {
   "cell_type": "code",
   "execution_count": null,
   "id": "acb0d58b",
   "metadata": {},
   "outputs": [],
   "source": [
    "for i in train_dataset.index:\n",
    "    train_dataset['text'][i]=train_dataset['text'][i].replace('\\\\',\" \")"
   ]
  },
  {
   "cell_type": "code",
   "execution_count": null,
   "id": "9ebe9d5f",
   "metadata": {},
   "outputs": [],
   "source": [
    "labels=train_dataset.label"
   ]
  },
  {
   "cell_type": "code",
   "execution_count": null,
   "id": "867e43c5",
   "metadata": {},
   "outputs": [],
   "source": [
    "labels.head()"
   ]
  },
  {
   "cell_type": "code",
   "execution_count": null,
   "id": "2b6ccf91",
   "metadata": {},
   "outputs": [],
   "source": [
    "x_train,x_test,y_train,y_test=train_test_split(train_dataset['text'],labels,test_size=0.2,random_state=20) #random state is just like seed"
   ]
  },
  {
   "cell_type": "code",
   "execution_count": null,
   "id": "3ef639e6",
   "metadata": {},
   "outputs": [],
   "source": [
    "# TFIDF Initialization\n",
    "vector = TfidfVectorizer(stop_words='english',max_df=0.7) #max_df is max document freq "
   ]
  },
  {
   "cell_type": "code",
   "execution_count": null,
   "id": "fb0014e0",
   "metadata": {},
   "outputs": [],
   "source": [
    "# fit and transform\n",
    "tf_train=vector.fit_transform(x_train)\n",
    "tf_test=vector.transform(x_test)"
   ]
  },
  {
   "cell_type": "code",
   "execution_count": null,
   "id": "e7aeb8e5",
   "metadata": {},
   "outputs": [],
   "source": [
    "# initialize passive aggressive classifier\n",
    "pac=PassiveAggressiveClassifier(max_iter=50)\n",
    "pac.fit(tf_train,y_train)"
   ]
  },
  {
   "cell_type": "code",
   "execution_count": null,
   "id": "b94cc35d",
   "metadata": {},
   "outputs": [],
   "source": [
    "# predicting on test data sets\n",
    "y_pred=pac.predict(tf_test)"
   ]
  },
  {
   "cell_type": "code",
   "execution_count": null,
   "id": "c5107943",
   "metadata": {},
   "outputs": [],
   "source": [
    "score = accuracy_score(y_test,y_pred)"
   ]
  },
  {
   "cell_type": "code",
   "execution_count": null,
   "id": "33d37aa2",
   "metadata": {},
   "outputs": [],
   "source": [
    "print(f\"Accuracy is : {round(score*100,2)}%\")"
   ]
  },
  {
   "cell_type": "code",
   "execution_count": null,
   "id": "a93dd887",
   "metadata": {},
   "outputs": [],
   "source": [
    "# Confusion Matrix\n",
    "confusion_matrix(y_test,y_pred,labels=['Fake','Real'])"
   ]
  },
  {
   "cell_type": "markdown",
   "id": "1213b6a3",
   "metadata": {},
   "source": [
    "**Classification Report**"
   ]
  },
  {
   "cell_type": "code",
   "execution_count": null,
   "id": "15e76c86",
   "metadata": {},
   "outputs": [],
   "source": [
    "print(classification_report(y_test,y_pred))"
   ]
  },
  {
   "cell_type": "code",
   "execution_count": null,
   "id": "7caab993",
   "metadata": {},
   "outputs": [],
   "source": [
    "# saving model\n",
    "file_name='model.sav'\n",
    "joblib.dump(pac,file_name)"
   ]
  },
  {
   "cell_type": "code",
   "execution_count": null,
   "id": "d0830585",
   "metadata": {},
   "outputs": [],
   "source": [
    "#saving vectorizer model\n",
    "file_name_1='vector.sav'\n",
    "joblib.dump(vector,file_name_1)"
   ]
  }
 ],
 "metadata": {
  "kernelspec": {
   "display_name": "Python 3 (ipykernel)",
   "language": "python",
   "name": "python3"
  },
  "language_info": {
   "codemirror_mode": {
    "name": "ipython",
    "version": 3
   },
   "file_extension": ".py",
   "mimetype": "text/x-python",
   "name": "python",
   "nbconvert_exporter": "python",
   "pygments_lexer": "ipython3",
   "version": "3.10.7"
  }
 },
 "nbformat": 4,
 "nbformat_minor": 5
}
