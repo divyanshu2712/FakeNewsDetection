{
 "cells": [
  {
   "cell_type": "code",
   "execution_count": 1,
   "id": "7aae9d46",
   "metadata": {},
   "outputs": [],
   "source": [
    "import pandas as pd"
   ]
  },
  {
   "cell_type": "code",
   "execution_count": 3,
   "id": "d97a8c5f",
   "metadata": {},
   "outputs": [],
   "source": [
    "true=pd.read_csv(\"True.csv\") # reading data file\n",
    "true['label']='Real'\n",
    "true.head()\n",
    "false=pd.read_csv(\"Fake.csv\")\n",
    "false['label']='Fake'\n",
    "frames = [true, false]\n",
    "df=pd.concat(frames)\n",
    "df = df.sample(frac=1.0)"
   ]
  },
  {
   "cell_type": "code",
   "execution_count": 6,
   "id": "2dd4015e",
   "metadata": {},
   "outputs": [],
   "source": [
    "df.to_csv('newsdata.csv')"
   ]
  }
 ],
 "metadata": {
  "kernelspec": {
   "display_name": "Python 3 (ipykernel)",
   "language": "python",
   "name": "python3"
  },
  "language_info": {
   "codemirror_mode": {
    "name": "ipython",
    "version": 3
   },
   "file_extension": ".py",
   "mimetype": "text/x-python",
   "name": "python",
   "nbconvert_exporter": "python",
   "pygments_lexer": "ipython3",
   "version": "3.10.7"
  }
 },
 "nbformat": 4,
 "nbformat_minor": 5
}
