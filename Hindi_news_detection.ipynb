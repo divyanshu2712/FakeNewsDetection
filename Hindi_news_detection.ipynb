{
 "cells": [
  {
   "cell_type": "code",
   "execution_count": 1,
   "id": "e1998176",
   "metadata": {},
   "outputs": [],
   "source": [
    "import pandas as pd\n",
    "import numpy as np\n",
    "import joblib\n",
    "from sklearn.model_selection import train_test_split\n",
    "from sklearn.feature_extraction.text import TfidfVectorizer\n",
    "from sklearn.linear_model import PassiveAggressiveClassifier\n",
    "from sklearn.metrics import accuracy_score,confusion_matrix"
   ]
  },
  {
   "cell_type": "code",
   "execution_count": 2,
   "id": "fc831438",
   "metadata": {},
   "outputs": [],
   "source": [
    "df=pd.read_csv('news_hn.csv')\n",
    "stopwords=pd.read_table('final_stopwords.txt')"
   ]
  },
  {
   "cell_type": "code",
   "execution_count": 3,
   "id": "d413a7b9",
   "metadata": {},
   "outputs": [
    {
     "data": {
      "text/plain": [
       "0       उत्तर कोरिय किम जोंग-उन के अंतिम संस्कार के ना...\n",
       "1       गुजरात दलित युवक कथित ऊंच जात जैस सरनेम रख वजह...\n",
       "2       अव डांडिय द्वार 2 मार्च पोस्ट फ़ेसबुक लाइव सोशल...\n",
       "3       किसान संघ नागरिक संशोधन अधिनियम सीएए CAA के ख़ि...\n",
       "4       करीब 50 सेकंड वीडिय सोशल मीडिय वायरल इसम कांग्...\n",
       "                              ...                        \n",
       "1675    वायरल वीडिय क्लिप के दाव किय रह ईरा जनरल कासिम...\n",
       "1676    किसान आंदोलन महाराष्ट्र चार किसान हड़ताल क़रीब...\n",
       "1677    किसान के वॉशिंगटन प्रदर्शन गाँध मूर्त नुकसान- ...\n",
       "1678    दाव नरेंद्र मोद हट के शिवलिंग चप्पल मार पड़ मार...\n",
       "1679    बंगाल नवनिर्वाचित सांसद महुआ मोइत्र आलोच के घे...\n",
       "Name: long_description, Length: 1680, dtype: object"
      ]
     },
     "execution_count": 3,
     "metadata": {},
     "output_type": "execute_result"
    }
   ],
   "source": [
    "df['long_description']"
   ]
  },
  {
   "cell_type": "code",
   "execution_count": 4,
   "id": "ac3ca0bc",
   "metadata": {},
   "outputs": [
    {
     "data": {
      "text/plain": [
       "Unnamed: 0.1         0\n",
       "Unnamed: 0           0\n",
       "short_description    0\n",
       "full_title           0\n",
       "long_description     0\n",
       "label                0\n",
       "dtype: int64"
      ]
     },
     "execution_count": 4,
     "metadata": {},
     "output_type": "execute_result"
    }
   ],
   "source": [
    "df.isnull().sum()"
   ]
  },
  {
   "cell_type": "code",
   "execution_count": 5,
   "id": "fc8b6263",
   "metadata": {},
   "outputs": [],
   "source": [
    "labels=df['label']"
   ]
  },
  {
   "cell_type": "code",
   "execution_count": 6,
   "id": "fdadd4db",
   "metadata": {},
   "outputs": [],
   "source": [
    "x_train,x_test,y_train,y_test=train_test_split(df['long_description'],labels,test_size=0.2,random_state=20)"
   ]
  },
  {
   "cell_type": "code",
   "execution_count": 7,
   "id": "e0e98e29",
   "metadata": {},
   "outputs": [],
   "source": [
    "vector_hn=TfidfVectorizer(stop_words=set(stopwords))\n",
    "tf_train=vector_hn.fit_transform(x_train)\n",
    "tf_test=vector_hn.transform(x_test)"
   ]
  },
  {
   "cell_type": "code",
   "execution_count": 8,
   "id": "db724048",
   "metadata": {},
   "outputs": [
    {
     "data": {
      "text/plain": [
       "669     Fake\n",
       "705     Fake\n",
       "1000    True\n",
       "673     Fake\n",
       "879     Fake\n",
       "        ... \n",
       "924     Fake\n",
       "1247    Fake\n",
       "271     Fake\n",
       "474     Fake\n",
       "1379    True\n",
       "Name: label, Length: 1344, dtype: object"
      ]
     },
     "execution_count": 8,
     "metadata": {},
     "output_type": "execute_result"
    }
   ],
   "source": [
    "y_train"
   ]
  },
  {
   "cell_type": "code",
   "execution_count": 9,
   "id": "891f933c",
   "metadata": {},
   "outputs": [
    {
     "data": {
      "text/html": [
       "<style>#sk-container-id-1 {color: black;background-color: white;}#sk-container-id-1 pre{padding: 0;}#sk-container-id-1 div.sk-toggleable {background-color: white;}#sk-container-id-1 label.sk-toggleable__label {cursor: pointer;display: block;width: 100%;margin-bottom: 0;padding: 0.3em;box-sizing: border-box;text-align: center;}#sk-container-id-1 label.sk-toggleable__label-arrow:before {content: \"▸\";float: left;margin-right: 0.25em;color: #696969;}#sk-container-id-1 label.sk-toggleable__label-arrow:hover:before {color: black;}#sk-container-id-1 div.sk-estimator:hover label.sk-toggleable__label-arrow:before {color: black;}#sk-container-id-1 div.sk-toggleable__content {max-height: 0;max-width: 0;overflow: hidden;text-align: left;background-color: #f0f8ff;}#sk-container-id-1 div.sk-toggleable__content pre {margin: 0.2em;color: black;border-radius: 0.25em;background-color: #f0f8ff;}#sk-container-id-1 input.sk-toggleable__control:checked~div.sk-toggleable__content {max-height: 200px;max-width: 100%;overflow: auto;}#sk-container-id-1 input.sk-toggleable__control:checked~label.sk-toggleable__label-arrow:before {content: \"▾\";}#sk-container-id-1 div.sk-estimator input.sk-toggleable__control:checked~label.sk-toggleable__label {background-color: #d4ebff;}#sk-container-id-1 div.sk-label input.sk-toggleable__control:checked~label.sk-toggleable__label {background-color: #d4ebff;}#sk-container-id-1 input.sk-hidden--visually {border: 0;clip: rect(1px 1px 1px 1px);clip: rect(1px, 1px, 1px, 1px);height: 1px;margin: -1px;overflow: hidden;padding: 0;position: absolute;width: 1px;}#sk-container-id-1 div.sk-estimator {font-family: monospace;background-color: #f0f8ff;border: 1px dotted black;border-radius: 0.25em;box-sizing: border-box;margin-bottom: 0.5em;}#sk-container-id-1 div.sk-estimator:hover {background-color: #d4ebff;}#sk-container-id-1 div.sk-parallel-item::after {content: \"\";width: 100%;border-bottom: 1px solid gray;flex-grow: 1;}#sk-container-id-1 div.sk-label:hover label.sk-toggleable__label {background-color: #d4ebff;}#sk-container-id-1 div.sk-serial::before {content: \"\";position: absolute;border-left: 1px solid gray;box-sizing: border-box;top: 0;bottom: 0;left: 50%;z-index: 0;}#sk-container-id-1 div.sk-serial {display: flex;flex-direction: column;align-items: center;background-color: white;padding-right: 0.2em;padding-left: 0.2em;position: relative;}#sk-container-id-1 div.sk-item {position: relative;z-index: 1;}#sk-container-id-1 div.sk-parallel {display: flex;align-items: stretch;justify-content: center;background-color: white;position: relative;}#sk-container-id-1 div.sk-item::before, #sk-container-id-1 div.sk-parallel-item::before {content: \"\";position: absolute;border-left: 1px solid gray;box-sizing: border-box;top: 0;bottom: 0;left: 50%;z-index: -1;}#sk-container-id-1 div.sk-parallel-item {display: flex;flex-direction: column;z-index: 1;position: relative;background-color: white;}#sk-container-id-1 div.sk-parallel-item:first-child::after {align-self: flex-end;width: 50%;}#sk-container-id-1 div.sk-parallel-item:last-child::after {align-self: flex-start;width: 50%;}#sk-container-id-1 div.sk-parallel-item:only-child::after {width: 0;}#sk-container-id-1 div.sk-dashed-wrapped {border: 1px dashed gray;margin: 0 0.4em 0.5em 0.4em;box-sizing: border-box;padding-bottom: 0.4em;background-color: white;}#sk-container-id-1 div.sk-label label {font-family: monospace;font-weight: bold;display: inline-block;line-height: 1.2em;}#sk-container-id-1 div.sk-label-container {text-align: center;}#sk-container-id-1 div.sk-container {/* jupyter's `normalize.less` sets `[hidden] { display: none; }` but bootstrap.min.css set `[hidden] { display: none !important; }` so we also need the `!important` here to be able to override the default hidden behavior on the sphinx rendered scikit-learn.org. See: https://github.com/scikit-learn/scikit-learn/issues/21755 */display: inline-block !important;position: relative;}#sk-container-id-1 div.sk-text-repr-fallback {display: none;}</style><div id=\"sk-container-id-1\" class=\"sk-top-container\"><div class=\"sk-text-repr-fallback\"><pre>PassiveAggressiveClassifier(max_iter=50)</pre><b>In a Jupyter environment, please rerun this cell to show the HTML representation or trust the notebook. <br />On GitHub, the HTML representation is unable to render, please try loading this page with nbviewer.org.</b></div><div class=\"sk-container\" hidden><div class=\"sk-item\"><div class=\"sk-estimator sk-toggleable\"><input class=\"sk-toggleable__control sk-hidden--visually\" id=\"sk-estimator-id-1\" type=\"checkbox\" checked><label for=\"sk-estimator-id-1\" class=\"sk-toggleable__label sk-toggleable__label-arrow\">PassiveAggressiveClassifier</label><div class=\"sk-toggleable__content\"><pre>PassiveAggressiveClassifier(max_iter=50)</pre></div></div></div></div></div>"
      ],
      "text/plain": [
       "PassiveAggressiveClassifier(max_iter=50)"
      ]
     },
     "execution_count": 9,
     "metadata": {},
     "output_type": "execute_result"
    }
   ],
   "source": [
    "pac_hn=PassiveAggressiveClassifier(max_iter=50)\n",
    "pac_hn.fit(tf_train,y_train)"
   ]
  },
  {
   "cell_type": "code",
   "execution_count": 10,
   "id": "f7a8bbe1",
   "metadata": {},
   "outputs": [],
   "source": [
    "y_pred=pac_hn.predict(tf_test)"
   ]
  },
  {
   "cell_type": "code",
   "execution_count": 11,
   "id": "eeb2364e",
   "metadata": {},
   "outputs": [],
   "source": [
    "score = accuracy_score(y_test,y_pred)"
   ]
  },
  {
   "cell_type": "code",
   "execution_count": 12,
   "id": "fe944b48",
   "metadata": {},
   "outputs": [
    {
     "name": "stdout",
     "output_type": "stream",
     "text": [
      "Accuracy is 98.80952380952381\n"
     ]
    }
   ],
   "source": [
    "print(f\"Accuracy is {score*100}\")"
   ]
  },
  {
   "cell_type": "code",
   "execution_count": 13,
   "id": "af2dc8ee",
   "metadata": {},
   "outputs": [
    {
     "data": {
      "text/plain": [
       "array([[ 93,   2],\n",
       "       [  2, 239]], dtype=int64)"
      ]
     },
     "execution_count": 13,
     "metadata": {},
     "output_type": "execute_result"
    }
   ],
   "source": [
    "confusion_matrix(y_test,y_pred,labels=['True','Fake'])"
   ]
  },
  {
   "cell_type": "code",
   "execution_count": 14,
   "id": "65af6e6a",
   "metadata": {},
   "outputs": [
    {
     "data": {
      "text/plain": [
       "1479    Fake\n",
       "1375    Fake\n",
       "313     Fake\n",
       "1356    Fake\n",
       "594     Fake\n",
       "        ... \n",
       "949     Fake\n",
       "287     Fake\n",
       "420     True\n",
       "1451    True\n",
       "514     Fake\n",
       "Name: label, Length: 336, dtype: object"
      ]
     },
     "execution_count": 14,
     "metadata": {},
     "output_type": "execute_result"
    }
   ],
   "source": [
    "y_test"
   ]
  },
  {
   "cell_type": "code",
   "execution_count": 15,
   "id": "8d2f839c",
   "metadata": {},
   "outputs": [],
   "source": [
    "modelfile='model_hn.sav'\n",
    "vectorfile='vector_hn.sav'"
   ]
  },
  {
   "cell_type": "code",
   "execution_count": 16,
   "id": "b6a47b55",
   "metadata": {},
   "outputs": [
    {
     "data": {
      "text/plain": [
       "['vector_hn.sav']"
      ]
     },
     "execution_count": 16,
     "metadata": {},
     "output_type": "execute_result"
    }
   ],
   "source": [
    "joblib.dump(pac_hn,modelfile)\n",
    "joblib.dump(vector_hn,vectorfile)"
   ]
  },
  {
   "cell_type": "code",
   "execution_count": 17,
   "id": "a53cc0a8",
   "metadata": {},
   "outputs": [],
   "source": [
    "frames=[x_test,y_test]\n",
    "test_hn=pd.concat(frames,axis=1)"
   ]
  },
  {
   "cell_type": "code",
   "execution_count": 18,
   "id": "5e001aeb",
   "metadata": {},
   "outputs": [],
   "source": [
    "test_hn.to_csv('test_hn.csv')"
   ]
  },
  {
   "cell_type": "code",
   "execution_count": null,
   "id": "4bc933da",
   "metadata": {},
   "outputs": [],
   "source": []
  },
  {
   "cell_type": "code",
   "execution_count": null,
   "id": "107996cf",
   "metadata": {},
   "outputs": [],
   "source": []
  },
  {
   "cell_type": "code",
   "execution_count": null,
   "id": "34752496",
   "metadata": {},
   "outputs": [],
   "source": []
  }
 ],
 "metadata": {
  "kernelspec": {
   "display_name": "Python 3 (ipykernel)",
   "language": "python",
   "name": "python3"
  },
  "language_info": {
   "codemirror_mode": {
    "name": "ipython",
    "version": 3
   },
   "file_extension": ".py",
   "mimetype": "text/x-python",
   "name": "python",
   "nbconvert_exporter": "python",
   "pygments_lexer": "ipython3",
   "version": "3.10.7"
  }
 },
 "nbformat": 4,
 "nbformat_minor": 5
}
